{
 "cells": [
  {
   "cell_type": "code",
   "execution_count": 5,
   "metadata": {},
   "outputs": [
    {
     "name": "stderr",
     "output_type": "stream",
     "text": [
      "c:\\Users\\haydn\\aicorework\\DataAnalysisProject\\db_utils.py:70: UserWarning: Could not infer format, so each element will be parsed individually, falling back to `dateutil`. To ensure parsing is consistent and as-expected, please specify a format.\n",
      "  self.df[column] = pd.to_datetime(self.df[column])\n",
      "c:\\Users\\haydn\\aicorework\\DataAnalysisProject\\db_utils.py:70: UserWarning: Could not infer format, so each element will be parsed individually, falling back to `dateutil`. To ensure parsing is consistent and as-expected, please specify a format.\n",
      "  self.df[column] = pd.to_datetime(self.df[column])\n",
      "c:\\Users\\haydn\\aicorework\\DataAnalysisProject\\db_utils.py:70: UserWarning: Could not infer format, so each element will be parsed individually, falling back to `dateutil`. To ensure parsing is consistent and as-expected, please specify a format.\n",
      "  self.df[column] = pd.to_datetime(self.df[column])\n",
      "c:\\Users\\haydn\\aicorework\\DataAnalysisProject\\db_utils.py:70: UserWarning: Could not infer format, so each element will be parsed individually, falling back to `dateutil`. To ensure parsing is consistent and as-expected, please specify a format.\n",
      "  self.df[column] = pd.to_datetime(self.df[column])\n"
     ]
    },
    {
     "name": "stdout",
     "output_type": "stream",
     "text": [
      "We can see that the lower the grade level of a loan is more likely to affect if the loan is charged off or late  {'A': 4.6, 'B': 8.96, 'C': 12.32, 'D': 16.48, 'E': 19.72, 'F': 23.26, 'G': 23.22} .\n",
      "The purpose of the loan seems to not have too big of an impact on the likelihood of the loan being a loss  {'credit_card': 9.15, 'debt_consolidation': 11.84, 'home_improvement': 9.55, 'small_business': 23.86, 'renewable_energy': 15.19, 'major_purchase': 10.48, 'other': 14.12, 'moving': 14.91, 'car': 9.3, 'medical': 13.63, 'house': 12.15, 'vacation': 12.19, 'wedding': 8.35, 'educational': 13.93} , execpt if the purpose is small business.\n",
      "The home ownership has so imapct on the chance of the loan being charged off or late {'MORTGAGE': 10.2, 'RENT': 12.97, 'OWN': 12.34, 'OTHER': 14.29, 'NONE': 0.0}\n"
     ]
    }
   ],
   "source": [
    "import db_utils as db\n",
    "\n",
    "creds = db.GetCreds()\n",
    "db_connect = db.RDSDatabaseConnector(creds)\n",
    "db_connect.RDSConnection()\n",
    "db_connect.RDSExtract()\n",
    "#db_connect.RDSSaveToCSV()\n",
    "\n",
    "db_convert = db.DataTransform(db_connect.loan_payments)\n",
    "db_convert.convert_to_datetime(['issue_date','last_payment_date','next_payment_date','earliest_credit_line'])\n",
    "db_convert.convert_to_int()\n",
    "db_convert.convert_int_to_flt()\n",
    "\n",
    "#db_frame = db.DataFrameInfo(b.df)\n",
    "#print(db_frame.get_null_values())\n",
    "#print(db_frame.get_shape())\n",
    "\n",
    "db_trans = db.DataFrameTransform(db_convert.df)\n",
    "db_trans.null_values()\n",
    "db_plot = db.Plotter(db_trans.df)\n",
    "#db_plot.plot_frame()\n",
    "db_trans.data_impute(['funded_amount','term', 'int_rate','collections_12_mths_ex_med'], 'mean')\n",
    "#db_plot.plot_frame()\n",
    "db_trans.data_impute(['employment_length', 'last_payment_date', 'last_credit_pull_date'], 'mode')\n",
    "#db_plot.skewness()\n",
    "db_trans.correct_skew()\n",
    "db_new_plot = db.Plotter(db_trans.newdf)\n",
    "db_analysis = db.DataAnalysis(db_trans.df)\n",
    "#db_trans.correlation()\n",
    "#db_analysis.loan_loss()\n",
    "#db_analysis.possible_loss()\n",
    "db_analysis.indicator_of_loss()\n",
    "#db_plot.state_of_loans()\n",
    "#db_new_plot.skewness()\n",
    "#db_new_plot.corr_matrix()\n",
    "#db_plot.plot_frame()\n",
    "#print(db_trans.null_percent)"
   ]
  }
 ],
 "metadata": {
  "kernelspec": {
   "display_name": "Python 3",
   "language": "python",
   "name": "python3"
  },
  "language_info": {
   "codemirror_mode": {
    "name": "ipython",
    "version": 3
   },
   "file_extension": ".py",
   "mimetype": "text/x-python",
   "name": "python",
   "nbconvert_exporter": "python",
   "pygments_lexer": "ipython3",
   "version": "3.11.5"
  }
 },
 "nbformat": 4,
 "nbformat_minor": 2
}
