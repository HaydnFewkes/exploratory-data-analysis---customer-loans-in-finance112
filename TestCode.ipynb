{
 "cells": [
  {
   "cell_type": "code",
   "execution_count": 2,
   "metadata": {},
   "outputs": [
    {
     "name": "stderr",
     "output_type": "stream",
     "text": [
      "c:\\Users\\haydn\\aicorework\\DataAnalysisProject\\db_utils.py:70: UserWarning: Could not infer format, so each element will be parsed individually, falling back to `dateutil`. To ensure parsing is consistent and as-expected, please specify a format.\n",
      "  self.df[column] = pd.to_datetime(self.df[column])\n",
      "c:\\Users\\haydn\\aicorework\\DataAnalysisProject\\db_utils.py:70: UserWarning: Could not infer format, so each element will be parsed individually, falling back to `dateutil`. To ensure parsing is consistent and as-expected, please specify a format.\n",
      "  self.df[column] = pd.to_datetime(self.df[column])\n",
      "c:\\Users\\haydn\\aicorework\\DataAnalysisProject\\db_utils.py:70: UserWarning: Could not infer format, so each element will be parsed individually, falling back to `dateutil`. To ensure parsing is consistent and as-expected, please specify a format.\n",
      "  self.df[column] = pd.to_datetime(self.df[column])\n",
      "c:\\Users\\haydn\\aicorework\\DataAnalysisProject\\db_utils.py:70: UserWarning: Could not infer format, so each element will be parsed individually, falling back to `dateutil`. To ensure parsing is consistent and as-expected, please specify a format.\n",
      "  self.df[column] = pd.to_datetime(self.df[column])\n"
     ]
    },
    {
     "name": "stdout",
     "output_type": "stream",
     "text": [
      "We can see that the lower the grade level of a loan is more likely to affect if the loan is charged off or late  {'A': 4.6, 'B': 8.96, 'C': 12.32, 'D': 16.48, 'E': 19.72, 'F': 23.26, 'G': 23.22} .\n",
      "The purpose of the loan seems to not have too big of an impact on the likelihood of the loan being a loss  {'credit_card': 9.15, 'debt_consolidation': 11.84, 'home_improvement': 9.55, 'small_business': 23.86, 'renewable_energy': 15.19, 'major_purchase': 10.48, 'other': 14.12, 'moving': 14.91, 'car': 9.3, 'medical': 13.63, 'house': 12.15, 'vacation': 12.19, 'wedding': 8.35, 'educational': 13.93} , execpt if the purpose is small business.\n",
      "The home ownership has so imapct on the chance of the loan being charged off or late {'MORTGAGE': 10.2, 'RENT': 12.97, 'OWN': 12.34, 'OTHER': 14.29, 'NONE': 0.0}\n"
     ]
    }
   ],
   "source": [
    "import db_utils as db\n",
    "\n",
    "creds = db.GetCreds()\n",
    "a = db.RDSDatabaseConnector(creds)\n",
    "a.RDSConnection()\n",
    "a.RDSExtract()\n",
    "#a.RDSSaveToCSV()\n",
    "\n",
    "b = db.DataTransform(a.loan_payments)\n",
    "b.convert_to_datetime(['issue_date','last_payment_date','next_payment_date','earliest_credit_line'])\n",
    "b.convert_to_int()\n",
    "b.convert_int_to_flt()\n",
    "\n",
    "#c = db.DataFrameInfo(b.df)\n",
    "#print(c.get_null_values())\n",
    "#print(c.get_shape())\n",
    "\n",
    "d = db.DataFrameTransform(b.df)\n",
    "d.null_values()\n",
    "e = db.Plotter(d.df)\n",
    "#e.plot_frame()\n",
    "d.data_impute(['funded_amount','term', 'int_rate','collections_12_mths_ex_med'], 'mean')\n",
    "#e.plot_frame()\n",
    "d.data_impute(['employment_length', 'last_payment_date', 'last_credit_pull_date'], 'mode')\n",
    "#e.skewness()\n",
    "d.correct_skew()\n",
    "f = db.Plotter(d.newdf)\n",
    "g = db.DataAnalysis(d.df)\n",
    "#d.correlation()\n",
    "#g.loan_loss()\n",
    "#g.possible_loss()\n",
    "g.indicator_of_loss()\n",
    "#e.state_of_loans()\n",
    "#f.skewness()\n",
    "#f.corr_matrix()\n",
    "#e.plot_frame()\n",
    "#print(d.null_percent)"
   ]
  }
 ],
 "metadata": {
  "kernelspec": {
   "display_name": "Python 3",
   "language": "python",
   "name": "python3"
  },
  "language_info": {
   "codemirror_mode": {
    "name": "ipython",
    "version": 3
   },
   "file_extension": ".py",
   "mimetype": "text/x-python",
   "name": "python",
   "nbconvert_exporter": "python",
   "pygments_lexer": "ipython3",
   "version": "3.11.5"
  }
 },
 "nbformat": 4,
 "nbformat_minor": 2
}
