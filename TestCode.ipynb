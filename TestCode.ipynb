{
 "cells": [
  {
   "cell_type": "markdown",
   "metadata": {},
   "source": [
    "<h1>Exploratory Data Analysis - Customer Loans in Finance Project<h1>"
   ]
  },
  {
   "cell_type": "markdown",
   "metadata": {},
   "source": [
    "<h2>Imports:<h2>"
   ]
  },
  {
   "cell_type": "code",
   "execution_count": 2,
   "metadata": {},
   "outputs": [],
   "source": [
    "import db_connect\n",
    "import db_transform\n",
    "import db_info\n",
    "import db_frame_transform\n",
    "import db_plotter\n",
    "import db_analysis"
   ]
  },
  {
   "cell_type": "markdown",
   "metadata": {},
   "source": [
    "<h2>Setup:<h2>"
   ]
  },
  {
   "cell_type": "markdown",
   "metadata": {},
   "source": [
    "Connecting to the database:"
   ]
  },
  {
   "cell_type": "code",
   "execution_count": 3,
   "metadata": {},
   "outputs": [],
   "source": [
    "db_conn = db_connect.RDSDatabaseConnector()\n",
    "db_conn.RDSConnection()\n",
    "db_conn.RDSExtract()"
   ]
  },
  {
   "cell_type": "markdown",
   "metadata": {},
   "source": [
    "Save data to a local file:"
   ]
  },
  {
   "cell_type": "code",
   "execution_count": null,
   "metadata": {},
   "outputs": [],
   "source": [
    "db_conn.RDSSaveToCSV()"
   ]
  },
  {
   "cell_type": "markdown",
   "metadata": {},
   "source": [
    "<h2>Converting Data:<h2>"
   ]
  },
  {
   "cell_type": "markdown",
   "metadata": {},
   "source": [
    "We convert any datatypes that are in the wrong format or are better suited to a differnt datatype to the required status:"
   ]
  },
  {
   "cell_type": "code",
   "execution_count": 4,
   "metadata": {},
   "outputs": [
    {
     "name": "stderr",
     "output_type": "stream",
     "text": [
      "c:\\Users\\haydn\\aicorework\\DataAnalysisProject\\db_transform.py:18: UserWarning: Could not infer format, so each element will be parsed individually, falling back to `dateutil`. To ensure parsing is consistent and as-expected, please specify a format.\n",
      "  self.df[column] = pd.to_datetime(self.df[column])\n",
      "c:\\Users\\haydn\\aicorework\\DataAnalysisProject\\db_transform.py:18: UserWarning: Could not infer format, so each element will be parsed individually, falling back to `dateutil`. To ensure parsing is consistent and as-expected, please specify a format.\n",
      "  self.df[column] = pd.to_datetime(self.df[column])\n",
      "c:\\Users\\haydn\\aicorework\\DataAnalysisProject\\db_transform.py:18: UserWarning: Could not infer format, so each element will be parsed individually, falling back to `dateutil`. To ensure parsing is consistent and as-expected, please specify a format.\n",
      "  self.df[column] = pd.to_datetime(self.df[column])\n",
      "c:\\Users\\haydn\\aicorework\\DataAnalysisProject\\db_transform.py:18: UserWarning: Could not infer format, so each element will be parsed individually, falling back to `dateutil`. To ensure parsing is consistent and as-expected, please specify a format.\n",
      "  self.df[column] = pd.to_datetime(self.df[column])\n"
     ]
    }
   ],
   "source": [
    "db_conv = db_transform.DataTransform(db_conn.loan_payments)\n",
    "db_conv.convert_to_datetime(['issue_date','last_payment_date','next_payment_date','earliest_credit_line'])\n",
    "db_conv.convert_to_int()\n",
    "db_conv.convert_int_to_flt()"
   ]
  },
  {
   "cell_type": "markdown",
   "metadata": {},
   "source": [
    "<h2>Dataframe Info:<h2>"
   ]
  },
  {
   "cell_type": "code",
   "execution_count": null,
   "metadata": {},
   "outputs": [],
   "source": [
    "db_inf = db_info.DataFrameInfo(db_conv.df)"
   ]
  },
  {
   "cell_type": "markdown",
   "metadata": {},
   "source": [
    "We can check the measures of central tendency (mean, median and standard deviation):"
   ]
  },
  {
   "cell_type": "code",
   "execution_count": null,
   "metadata": {},
   "outputs": [],
   "source": [
    "db_inf.get_mean()"
   ]
  },
  {
   "cell_type": "code",
   "execution_count": null,
   "metadata": {},
   "outputs": [],
   "source": [
    "db_inf.get_median()"
   ]
  },
  {
   "cell_type": "code",
   "execution_count": null,
   "metadata": {},
   "outputs": [],
   "source": [
    "db_inf.get_standard_deviation()"
   ]
  },
  {
   "cell_type": "markdown",
   "metadata": {},
   "source": [
    "We can check what data types each coulmn are:"
   ]
  },
  {
   "cell_type": "code",
   "execution_count": null,
   "metadata": {},
   "outputs": [],
   "source": [
    "db_inf.check_datatypes()"
   ]
  },
  {
   "cell_type": "markdown",
   "metadata": {},
   "source": [
    "We can check infomation about the values of the dataframe (shape, the number of null values and the number of distinct values):"
   ]
  },
  {
   "cell_type": "code",
   "execution_count": null,
   "metadata": {},
   "outputs": [],
   "source": [
    "db_inf.get_shape()"
   ]
  },
  {
   "cell_type": "code",
   "execution_count": null,
   "metadata": {},
   "outputs": [],
   "source": [
    "db_inf.get_distinct_values()"
   ]
  },
  {
   "cell_type": "markdown",
   "metadata": {},
   "source": [
    "The null values are represented as a percent:"
   ]
  },
  {
   "cell_type": "code",
   "execution_count": null,
   "metadata": {},
   "outputs": [],
   "source": [
    "db_inf.get_null_values()"
   ]
  },
  {
   "cell_type": "markdown",
   "metadata": {},
   "source": [
    "<h2>Transforming the Data:<h2>"
   ]
  },
  {
   "cell_type": "markdown",
   "metadata": {},
   "source": [
    "Here we have the transformation of the data including skewness and correlation as well as the plots:"
   ]
  },
  {
   "cell_type": "code",
   "execution_count": 5,
   "metadata": {},
   "outputs": [],
   "source": [
    "db_trans = db_frame_transform.DataFrameTransform(db_conv.df)"
   ]
  },
  {
   "cell_type": "code",
   "execution_count": null,
   "metadata": {},
   "outputs": [],
   "source": [
    "db_plot = db_plotter.Plotter(db_trans.df)"
   ]
  },
  {
   "cell_type": "markdown",
   "metadata": {},
   "source": [
    "Plot of the frame before any transformation:"
   ]
  },
  {
   "cell_type": "code",
   "execution_count": null,
   "metadata": {},
   "outputs": [],
   "source": [
    "db_plot.plot_frame()"
   ]
  },
  {
   "cell_type": "markdown",
   "metadata": {},
   "source": [
    "<h3>Null Values:<h3>"
   ]
  },
  {
   "cell_type": "markdown",
   "metadata": {},
   "source": [
    "We remove columns with null values over a threshold, here we use *50%*:"
   ]
  },
  {
   "cell_type": "code",
   "execution_count": 6,
   "metadata": {},
   "outputs": [],
   "source": [
    "db_trans.null_values()"
   ]
  },
  {
   "cell_type": "markdown",
   "metadata": {},
   "source": [
    "Here is the plot of the data after we have removed the large sums of null values:"
   ]
  },
  {
   "cell_type": "code",
   "execution_count": null,
   "metadata": {},
   "outputs": [],
   "source": [
    "db_plot.reset_frame(db_trans.df)\n",
    "db_plot.plot_frame()"
   ]
  },
  {
   "cell_type": "markdown",
   "metadata": {},
   "source": [
    "We then have to remove the rest of the null values, so we impute them with a measure of central tendancy.\\\n",
    "Here we use the *mean* and the *mode* as they fit the best in the given columns:"
   ]
  },
  {
   "cell_type": "code",
   "execution_count": 7,
   "metadata": {},
   "outputs": [],
   "source": [
    "db_trans.data_impute(['funded_amount','term', 'int_rate','collections_12_mths_ex_med'], 'mean')\n",
    "db_trans.data_impute(['employment_length', 'last_payment_date', 'last_credit_pull_date'], 'mode')"
   ]
  },
  {
   "cell_type": "markdown",
   "metadata": {},
   "source": [
    "Here we have the plot of the data with no null values:"
   ]
  },
  {
   "cell_type": "code",
   "execution_count": null,
   "metadata": {},
   "outputs": [],
   "source": [
    "db_plot.reset_frame(db_trans.df)\n",
    "db_plot.plot_frame()"
   ]
  },
  {
   "cell_type": "markdown",
   "metadata": {},
   "source": [
    "<h3>Skewness:<h3>"
   ]
  },
  {
   "cell_type": "markdown",
   "metadata": {},
   "source": [
    "Here is a plot of the data before using the correction method:"
   ]
  },
  {
   "cell_type": "code",
   "execution_count": null,
   "metadata": {},
   "outputs": [],
   "source": [
    "db_plot.skewness()"
   ]
  },
  {
   "cell_type": "markdown",
   "metadata": {},
   "source": [
    "We use the *PowerTransformer()* method from *sklearn* which uses the *yeo-johnnson* correction in this case:"
   ]
  },
  {
   "cell_type": "code",
   "execution_count": 8,
   "metadata": {},
   "outputs": [],
   "source": [
    "db_trans.correct_skew()\n",
    "db_new_plot = db_plotter.Plotter(db_trans.newdf)"
   ]
  },
  {
   "cell_type": "markdown",
   "metadata": {},
   "source": [
    "Here is a plot of the data after the corrrection:"
   ]
  },
  {
   "cell_type": "code",
   "execution_count": null,
   "metadata": {},
   "outputs": [],
   "source": [
    "db_new_plot.skewness()"
   ]
  },
  {
   "cell_type": "markdown",
   "metadata": {},
   "source": [
    "<h3>Correlation:<h3>"
   ]
  },
  {
   "cell_type": "markdown",
   "metadata": {},
   "source": [
    "Here we have a correlation matrix of the data:"
   ]
  },
  {
   "cell_type": "code",
   "execution_count": null,
   "metadata": {},
   "outputs": [],
   "source": [
    "db_new_plot.corr_matrix()"
   ]
  },
  {
   "cell_type": "markdown",
   "metadata": {},
   "source": [
    "We can see that many columns are highly positivly correlated *(over 0.9)* but no columns are highly negativly correlated.\\\n",
    "So we can decide on what columns to drop due to this:\\\n",
    "- *'member_id'* due its correlation with *'id'* \n",
    "- *'total_payment_inv'* due to its correlation with *'total_payment'* and *'total_rec_prncp'*\n",
    "- *'funded_amount_inv'* due to its correlation with *'loan_amount'*, *'funded_amount'* and *'instalment'*\n",
    "- *'funded_amount'* due to its correlation with *'loan_amount'*\n",
    "- *'out_prncp_inv'* due to its *perfect* correlation with *'out_prncp'*\n",
    "- *'instalment'* due to its correlation with *'loan_amount'*\n",
    "- *'recoveries'* due to its correlation with *'collection_recovery_fee'*\n",
    "- *'total_rec_prncp'* due to its correlation with *'total_payment'* and *'total_payment_inv'*"
   ]
  },
  {
   "cell_type": "code",
   "execution_count": 9,
   "metadata": {},
   "outputs": [],
   "source": [
    "db_trans.correlation()"
   ]
  },
  {
   "cell_type": "markdown",
   "metadata": {},
   "source": [
    "Here we have the correlation matrix after the colunms have been removed:"
   ]
  },
  {
   "cell_type": "code",
   "execution_count": null,
   "metadata": {},
   "outputs": [],
   "source": [
    "db_new_plot.reset_frame(db_trans.newdf)\n",
    "db_new_plot.corr_matrix()"
   ]
  },
  {
   "cell_type": "markdown",
   "metadata": {},
   "source": [
    "<h2>Analysis of the Data:<h2>"
   ]
  },
  {
   "cell_type": "code",
   "execution_count": 10,
   "metadata": {},
   "outputs": [],
   "source": [
    "db_ana = db_analysis.DataAnalysis(db_trans.df)"
   ]
  },
  {
   "cell_type": "markdown",
   "metadata": {},
   "source": [
    "Here we have a plot of the state of the loans, we have *entry number* on the *x axis* and *percent paid off* on the *y axis*:"
   ]
  },
  {
   "cell_type": "code",
   "execution_count": null,
   "metadata": {},
   "outputs": [],
   "source": [
    "db_ana.state_of_loans()"
   ]
  },
  {
   "cell_type": "markdown",
   "metadata": {},
   "source": [
    "Plot for the expected amount paid off in six months:"
   ]
  },
  {
   "cell_type": "code",
   "execution_count": null,
   "metadata": {},
   "outputs": [],
   "source": [
    "db_ana.six_months()"
   ]
  },
  {
   "cell_type": "markdown",
   "metadata": {},
   "source": [
    "Here we have the percent of loans that are charged off, the amount paid back and the total loss from the charged off loans:"
   ]
  },
  {
   "cell_type": "code",
   "execution_count": null,
   "metadata": {},
   "outputs": [],
   "source": [
    "db_ana.loan_loss()"
   ]
  },
  {
   "cell_type": "markdown",
   "metadata": {},
   "source": [
    "Here we have the potential loss if the late loans are charged off:"
   ]
  },
  {
   "cell_type": "code",
   "execution_count": null,
   "metadata": {},
   "outputs": [],
   "source": [
    "db_ana.possible_loss()"
   ]
  },
  {
   "cell_type": "markdown",
   "metadata": {},
   "source": [
    "We then have a look at columns that would make sense to have an impact on the chance of a loan being late or charged off.\\\n",
    "The columns in question are *'grade_level'*, *'purpose'* and *'home_ownership'*:"
   ]
  },
  {
   "cell_type": "code",
   "execution_count": 11,
   "metadata": {},
   "outputs": [
    {
     "name": "stdout",
     "output_type": "stream",
     "text": [
      "We can see that the lower the grade level of a loan the more likely it is to affect if the loan is charged off or late:\n",
      " {'A': 4.6, 'B': 8.96, 'C': 12.32, 'D': 16.48, 'E': 19.72, 'F': 23.26, 'G': 23.22} .\n",
      "The purpose of the loan seems to not have too big of an impact on the likelihood of the loan being a loss:\n",
      " {'credit_card': 9.15, 'debt_consolidation': 11.84, 'home_improvement': 9.55, 'small_business': 23.86, 'renewable_energy': 15.19, 'major_purchase': 10.48, 'other': 14.12, 'moving': 14.91, 'car': 9.3, 'medical': 13.63, 'house': 12.15, 'vacation': 12.19, 'wedding': 8.35, 'educational': 13.93} , execpt if the purpose is small business.\n",
      "The home ownership has so imapct on the chance of the loan being charged off or late:\n",
      " {'MORTGAGE': 10.2, 'RENT': 12.97, 'OWN': 12.34, 'OTHER': 14.29, 'NONE': 0.0}\n"
     ]
    }
   ],
   "source": [
    "db_ana.indicator_of_loss()"
   ]
  }
 ],
 "metadata": {
  "kernelspec": {
   "display_name": "Python 3",
   "language": "python",
   "name": "python3"
  },
  "language_info": {
   "codemirror_mode": {
    "name": "ipython",
    "version": 3
   },
   "file_extension": ".py",
   "mimetype": "text/x-python",
   "name": "python",
   "nbconvert_exporter": "python",
   "pygments_lexer": "ipython3",
   "version": "3.11.5"
  }
 },
 "nbformat": 4,
 "nbformat_minor": 2
}
